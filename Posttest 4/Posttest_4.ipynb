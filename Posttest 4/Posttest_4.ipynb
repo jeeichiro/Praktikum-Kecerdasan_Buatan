{
  "nbformat": 4,
  "nbformat_minor": 0,
  "metadata": {
    "colab": {
      "provenance": []
    },
    "kernelspec": {
      "name": "python3",
      "display_name": "Python 3"
    },
    "language_info": {
      "name": "python"
    }
  },
  "cells": [
    {
      "cell_type": "code",
      "source": [],
      "metadata": {
        "id": "Vzjsi56YAC5X"
      },
      "execution_count": null,
      "outputs": []
    },
    {
      "cell_type": "code",
      "source": [
        "import pandas as pd\n",
        "import matplotlib.pyplot as plt\n",
        "import seaborn as sns\n",
        "from sklearn.model_selection import train_test_split\n",
        "from sklearn.preprocessing import LabelEncoder, StandardScaler\n",
        "from sklearn.svm import SVC, SVR\n",
        "from sklearn.ensemble import RandomForestClassifier, RandomForestRegressor\n",
        "from sklearn.neighbors import KNeighborsClassifier\n",
        "from sklearn.naive_bayes import GaussianNB\n",
        "from sklearn.linear_model import LinearRegression\n",
        "from sklearn.metrics import (\n",
        "    confusion_matrix, classification_report,\n",
        "    mean_absolute_error, mean_squared_error, r2_score\n",
        ")\n",
        "import warnings\n",
        "warnings.filterwarnings('ignore')\n",
        "\n"
      ],
      "metadata": {
        "id": "pT-OueQcAIwI"
      },
      "execution_count": 3,
      "outputs": []
    },
    {
      "cell_type": "code",
      "source": [
        "path=\"/content/flashscore.csv\"\n",
        "df=pd.read_csv(path)\n",
        "df.head(5)"
      ],
      "metadata": {
        "colab": {
          "base_uri": "https://localhost:8080/",
          "height": 206
        },
        "id": "p3peaPoMByVR",
        "outputId": "c46a274f-2692-49fd-9572-adeedcaf1d99"
      },
      "execution_count": 4,
      "outputs": [
        {
          "output_type": "execute_result",
          "data": {
            "text/plain": [
              "   Rank  Points  Tournaments                      Name Nationality\n",
              "0     1   98715           14            Axelsen Viktor     Denmark\n",
              "1     2   90984           19                 Shi Yu Qi       China\n",
              "2     3   85101           20  Ginting Anthony Sinisuka   Indonesia\n",
              "3     4   83594           19           Antonsen Anders     Denmark\n",
              "4     5   81531           19          Christie Jonatan   Indonesia"
            ],
            "text/html": [
              "\n",
              "  <div id=\"df-da5277b5-5f64-4510-966f-7ca2f3e27d0c\" class=\"colab-df-container\">\n",
              "    <div>\n",
              "<style scoped>\n",
              "    .dataframe tbody tr th:only-of-type {\n",
              "        vertical-align: middle;\n",
              "    }\n",
              "\n",
              "    .dataframe tbody tr th {\n",
              "        vertical-align: top;\n",
              "    }\n",
              "\n",
              "    .dataframe thead th {\n",
              "        text-align: right;\n",
              "    }\n",
              "</style>\n",
              "<table border=\"1\" class=\"dataframe\">\n",
              "  <thead>\n",
              "    <tr style=\"text-align: right;\">\n",
              "      <th></th>\n",
              "      <th>Rank</th>\n",
              "      <th>Points</th>\n",
              "      <th>Tournaments</th>\n",
              "      <th>Name</th>\n",
              "      <th>Nationality</th>\n",
              "    </tr>\n",
              "  </thead>\n",
              "  <tbody>\n",
              "    <tr>\n",
              "      <th>0</th>\n",
              "      <td>1</td>\n",
              "      <td>98715</td>\n",
              "      <td>14</td>\n",
              "      <td>Axelsen Viktor</td>\n",
              "      <td>Denmark</td>\n",
              "    </tr>\n",
              "    <tr>\n",
              "      <th>1</th>\n",
              "      <td>2</td>\n",
              "      <td>90984</td>\n",
              "      <td>19</td>\n",
              "      <td>Shi Yu Qi</td>\n",
              "      <td>China</td>\n",
              "    </tr>\n",
              "    <tr>\n",
              "      <th>2</th>\n",
              "      <td>3</td>\n",
              "      <td>85101</td>\n",
              "      <td>20</td>\n",
              "      <td>Ginting Anthony Sinisuka</td>\n",
              "      <td>Indonesia</td>\n",
              "    </tr>\n",
              "    <tr>\n",
              "      <th>3</th>\n",
              "      <td>4</td>\n",
              "      <td>83594</td>\n",
              "      <td>19</td>\n",
              "      <td>Antonsen Anders</td>\n",
              "      <td>Denmark</td>\n",
              "    </tr>\n",
              "    <tr>\n",
              "      <th>4</th>\n",
              "      <td>5</td>\n",
              "      <td>81531</td>\n",
              "      <td>19</td>\n",
              "      <td>Christie Jonatan</td>\n",
              "      <td>Indonesia</td>\n",
              "    </tr>\n",
              "  </tbody>\n",
              "</table>\n",
              "</div>\n",
              "    <div class=\"colab-df-buttons\">\n",
              "\n",
              "  <div class=\"colab-df-container\">\n",
              "    <button class=\"colab-df-convert\" onclick=\"convertToInteractive('df-da5277b5-5f64-4510-966f-7ca2f3e27d0c')\"\n",
              "            title=\"Convert this dataframe to an interactive table.\"\n",
              "            style=\"display:none;\">\n",
              "\n",
              "  <svg xmlns=\"http://www.w3.org/2000/svg\" height=\"24px\" viewBox=\"0 -960 960 960\">\n",
              "    <path d=\"M120-120v-720h720v720H120Zm60-500h600v-160H180v160Zm220 220h160v-160H400v160Zm0 220h160v-160H400v160ZM180-400h160v-160H180v160Zm440 0h160v-160H620v160ZM180-180h160v-160H180v160Zm440 0h160v-160H620v160Z\"/>\n",
              "  </svg>\n",
              "    </button>\n",
              "\n",
              "  <style>\n",
              "    .colab-df-container {\n",
              "      display:flex;\n",
              "      gap: 12px;\n",
              "    }\n",
              "\n",
              "    .colab-df-convert {\n",
              "      background-color: #E8F0FE;\n",
              "      border: none;\n",
              "      border-radius: 50%;\n",
              "      cursor: pointer;\n",
              "      display: none;\n",
              "      fill: #1967D2;\n",
              "      height: 32px;\n",
              "      padding: 0 0 0 0;\n",
              "      width: 32px;\n",
              "    }\n",
              "\n",
              "    .colab-df-convert:hover {\n",
              "      background-color: #E2EBFA;\n",
              "      box-shadow: 0px 1px 2px rgba(60, 64, 67, 0.3), 0px 1px 3px 1px rgba(60, 64, 67, 0.15);\n",
              "      fill: #174EA6;\n",
              "    }\n",
              "\n",
              "    .colab-df-buttons div {\n",
              "      margin-bottom: 4px;\n",
              "    }\n",
              "\n",
              "    [theme=dark] .colab-df-convert {\n",
              "      background-color: #3B4455;\n",
              "      fill: #D2E3FC;\n",
              "    }\n",
              "\n",
              "    [theme=dark] .colab-df-convert:hover {\n",
              "      background-color: #434B5C;\n",
              "      box-shadow: 0px 1px 3px 1px rgba(0, 0, 0, 0.15);\n",
              "      filter: drop-shadow(0px 1px 2px rgba(0, 0, 0, 0.3));\n",
              "      fill: #FFFFFF;\n",
              "    }\n",
              "  </style>\n",
              "\n",
              "    <script>\n",
              "      const buttonEl =\n",
              "        document.querySelector('#df-da5277b5-5f64-4510-966f-7ca2f3e27d0c button.colab-df-convert');\n",
              "      buttonEl.style.display =\n",
              "        google.colab.kernel.accessAllowed ? 'block' : 'none';\n",
              "\n",
              "      async function convertToInteractive(key) {\n",
              "        const element = document.querySelector('#df-da5277b5-5f64-4510-966f-7ca2f3e27d0c');\n",
              "        const dataTable =\n",
              "          await google.colab.kernel.invokeFunction('convertToInteractive',\n",
              "                                                    [key], {});\n",
              "        if (!dataTable) return;\n",
              "\n",
              "        const docLinkHtml = 'Like what you see? Visit the ' +\n",
              "          '<a target=\"_blank\" href=https://colab.research.google.com/notebooks/data_table.ipynb>data table notebook</a>'\n",
              "          + ' to learn more about interactive tables.';\n",
              "        element.innerHTML = '';\n",
              "        dataTable['output_type'] = 'display_data';\n",
              "        await google.colab.output.renderOutput(dataTable, element);\n",
              "        const docLink = document.createElement('div');\n",
              "        docLink.innerHTML = docLinkHtml;\n",
              "        element.appendChild(docLink);\n",
              "      }\n",
              "    </script>\n",
              "  </div>\n",
              "\n",
              "\n",
              "    <div id=\"df-3c5b2698-6f18-4b87-bf9a-fe54a22b2c65\">\n",
              "      <button class=\"colab-df-quickchart\" onclick=\"quickchart('df-3c5b2698-6f18-4b87-bf9a-fe54a22b2c65')\"\n",
              "                title=\"Suggest charts\"\n",
              "                style=\"display:none;\">\n",
              "\n",
              "<svg xmlns=\"http://www.w3.org/2000/svg\" height=\"24px\"viewBox=\"0 0 24 24\"\n",
              "     width=\"24px\">\n",
              "    <g>\n",
              "        <path d=\"M19 3H5c-1.1 0-2 .9-2 2v14c0 1.1.9 2 2 2h14c1.1 0 2-.9 2-2V5c0-1.1-.9-2-2-2zM9 17H7v-7h2v7zm4 0h-2V7h2v10zm4 0h-2v-4h2v4z\"/>\n",
              "    </g>\n",
              "</svg>\n",
              "      </button>\n",
              "\n",
              "<style>\n",
              "  .colab-df-quickchart {\n",
              "      --bg-color: #E8F0FE;\n",
              "      --fill-color: #1967D2;\n",
              "      --hover-bg-color: #E2EBFA;\n",
              "      --hover-fill-color: #174EA6;\n",
              "      --disabled-fill-color: #AAA;\n",
              "      --disabled-bg-color: #DDD;\n",
              "  }\n",
              "\n",
              "  [theme=dark] .colab-df-quickchart {\n",
              "      --bg-color: #3B4455;\n",
              "      --fill-color: #D2E3FC;\n",
              "      --hover-bg-color: #434B5C;\n",
              "      --hover-fill-color: #FFFFFF;\n",
              "      --disabled-bg-color: #3B4455;\n",
              "      --disabled-fill-color: #666;\n",
              "  }\n",
              "\n",
              "  .colab-df-quickchart {\n",
              "    background-color: var(--bg-color);\n",
              "    border: none;\n",
              "    border-radius: 50%;\n",
              "    cursor: pointer;\n",
              "    display: none;\n",
              "    fill: var(--fill-color);\n",
              "    height: 32px;\n",
              "    padding: 0;\n",
              "    width: 32px;\n",
              "  }\n",
              "\n",
              "  .colab-df-quickchart:hover {\n",
              "    background-color: var(--hover-bg-color);\n",
              "    box-shadow: 0 1px 2px rgba(60, 64, 67, 0.3), 0 1px 3px 1px rgba(60, 64, 67, 0.15);\n",
              "    fill: var(--button-hover-fill-color);\n",
              "  }\n",
              "\n",
              "  .colab-df-quickchart-complete:disabled,\n",
              "  .colab-df-quickchart-complete:disabled:hover {\n",
              "    background-color: var(--disabled-bg-color);\n",
              "    fill: var(--disabled-fill-color);\n",
              "    box-shadow: none;\n",
              "  }\n",
              "\n",
              "  .colab-df-spinner {\n",
              "    border: 2px solid var(--fill-color);\n",
              "    border-color: transparent;\n",
              "    border-bottom-color: var(--fill-color);\n",
              "    animation:\n",
              "      spin 1s steps(1) infinite;\n",
              "  }\n",
              "\n",
              "  @keyframes spin {\n",
              "    0% {\n",
              "      border-color: transparent;\n",
              "      border-bottom-color: var(--fill-color);\n",
              "      border-left-color: var(--fill-color);\n",
              "    }\n",
              "    20% {\n",
              "      border-color: transparent;\n",
              "      border-left-color: var(--fill-color);\n",
              "      border-top-color: var(--fill-color);\n",
              "    }\n",
              "    30% {\n",
              "      border-color: transparent;\n",
              "      border-left-color: var(--fill-color);\n",
              "      border-top-color: var(--fill-color);\n",
              "      border-right-color: var(--fill-color);\n",
              "    }\n",
              "    40% {\n",
              "      border-color: transparent;\n",
              "      border-right-color: var(--fill-color);\n",
              "      border-top-color: var(--fill-color);\n",
              "    }\n",
              "    60% {\n",
              "      border-color: transparent;\n",
              "      border-right-color: var(--fill-color);\n",
              "    }\n",
              "    80% {\n",
              "      border-color: transparent;\n",
              "      border-right-color: var(--fill-color);\n",
              "      border-bottom-color: var(--fill-color);\n",
              "    }\n",
              "    90% {\n",
              "      border-color: transparent;\n",
              "      border-bottom-color: var(--fill-color);\n",
              "    }\n",
              "  }\n",
              "</style>\n",
              "\n",
              "      <script>\n",
              "        async function quickchart(key) {\n",
              "          const quickchartButtonEl =\n",
              "            document.querySelector('#' + key + ' button');\n",
              "          quickchartButtonEl.disabled = true;  // To prevent multiple clicks.\n",
              "          quickchartButtonEl.classList.add('colab-df-spinner');\n",
              "          try {\n",
              "            const charts = await google.colab.kernel.invokeFunction(\n",
              "                'suggestCharts', [key], {});\n",
              "          } catch (error) {\n",
              "            console.error('Error during call to suggestCharts:', error);\n",
              "          }\n",
              "          quickchartButtonEl.classList.remove('colab-df-spinner');\n",
              "          quickchartButtonEl.classList.add('colab-df-quickchart-complete');\n",
              "        }\n",
              "        (() => {\n",
              "          let quickchartButtonEl =\n",
              "            document.querySelector('#df-3c5b2698-6f18-4b87-bf9a-fe54a22b2c65 button');\n",
              "          quickchartButtonEl.style.display =\n",
              "            google.colab.kernel.accessAllowed ? 'block' : 'none';\n",
              "        })();\n",
              "      </script>\n",
              "    </div>\n",
              "\n",
              "    </div>\n",
              "  </div>\n"
            ],
            "application/vnd.google.colaboratory.intrinsic+json": {
              "type": "dataframe",
              "variable_name": "df",
              "summary": "{\n  \"name\": \"df\",\n  \"rows\": 100,\n  \"fields\": [\n    {\n      \"column\": \"Rank\",\n      \"properties\": {\n        \"dtype\": \"number\",\n        \"std\": 29,\n        \"min\": 1,\n        \"max\": 100,\n        \"num_unique_values\": 100,\n        \"samples\": [\n          84,\n          54,\n          71\n        ],\n        \"semantic_type\": \"\",\n        \"description\": \"\"\n      }\n    },\n    {\n      \"column\": \"Points\",\n      \"properties\": {\n        \"dtype\": \"number\",\n        \"std\": 19826,\n        \"min\": 18430,\n        \"max\": 98715,\n        \"num_unique_values\": 99,\n        \"samples\": [\n          26500,\n          35660,\n          18530\n        ],\n        \"semantic_type\": \"\",\n        \"description\": \"\"\n      }\n    },\n    {\n      \"column\": \"Tournaments\",\n      \"properties\": {\n        \"dtype\": \"number\",\n        \"std\": 5,\n        \"min\": 8,\n        \"max\": 31,\n        \"num_unique_values\": 24,\n        \"samples\": [\n          30,\n          12,\n          14\n        ],\n        \"semantic_type\": \"\",\n        \"description\": \"\"\n      }\n    },\n    {\n      \"column\": \"Name\",\n      \"properties\": {\n        \"dtype\": \"string\",\n        \"num_unique_values\": 100,\n        \"samples\": [\n          \"Nguyen Hai Dang\",\n          \"Louda Jan\",\n          \"Wang Po-Wei\"\n        ],\n        \"semantic_type\": \"\",\n        \"description\": \"\"\n      }\n    },\n    {\n      \"column\": \"Nationality\",\n      \"properties\": {\n        \"dtype\": \"category\",\n        \"num_unique_values\": 36,\n        \"samples\": [\n          \"England\",\n          \"Belgium\",\n          \"Ukraine\"\n        ],\n        \"semantic_type\": \"\",\n        \"description\": \"\"\n      }\n    }\n  ]\n}"
            }
          },
          "metadata": {},
          "execution_count": 4
        }
      ]
    },
    {
      "cell_type": "markdown",
      "source": [
        "#A1 - Klasifikasi"
      ],
      "metadata": {
        "id": "f_pB94u3gT5e"
      }
    },
    {
      "cell_type": "code",
      "source": [
        "#kelompokkan peringkat menjadi 4 kelas\n",
        "df['Class'] = pd.cut (\n",
        "    df['Rank'] ,\n",
        "    bins=[0,10,30,60,100],\n",
        "    labels=['Elite','High', 'Mid', 'Low'],\n",
        "    include_lowest=True\n",
        "\n",
        ")"
      ],
      "metadata": {
        "id": "rUiyuG2JgenE"
      },
      "execution_count": 6,
      "outputs": []
    },
    {
      "cell_type": "code",
      "source": [
        "X_clf = df[['Points', 'Tournaments', 'Rank']]\n",
        "y_clf = df['Class']\n",
        "\n",
        "# Encode label\n",
        "le = LabelEncoder()\n",
        "y_encoded = le.fit_transform(y_clf)\n",
        "\n",
        "# Split data\n",
        "X_train_c, X_test_c, y_train_c, y_test_c = train_test_split(\n",
        "    X_clf, y_encoded, test_size=0.25, stratify=y_encoded, random_state=42\n",
        ")\n",
        "\n",
        "# Scaling (penting untuk SVM & KNN)\n",
        "scaler_c = StandardScaler()\n",
        "X_train_c_scaled = scaler_c.fit_transform(X_train_c)\n",
        "X_test_c_scaled = scaler_c.transform(X_test_c)"
      ],
      "metadata": {
        "id": "kWJHaeHyg7dF"
      },
      "execution_count": 8,
      "outputs": []
    },
    {
      "cell_type": "code",
      "source": [
        "# Support Vector Classifier (WAJIB)\n",
        "svc = SVC(kernel='rbf', random_state=42)\n",
        "svc.fit(X_train_c_scaled, y_train_c)\n",
        "y_pred_svc = svc.predict(X_test_c_scaled)\n",
        "\n",
        "# Point Plus: Model tambahan\n",
        "models_plus = {\n",
        "    'Random Forest': RandomForestClassifier(n_estimators=100, random_state=42),\n",
        "    'KNN': KNeighborsClassifier(n_neighbors=5),\n",
        "    'Naive Bayes': GaussianNB()\n",
        "}\n",
        "\n",
        "plus_preds = {}\n",
        "for name, model in models_plus.items():\n",
        "    if name in ['KNN', 'Naive Bayes']:\n",
        "        model.fit(X_train_c_scaled, y_train_c)\n",
        "        plus_preds[name] = model.predict(X_test_c_scaled)\n",
        "    else:\n",
        "        model.fit(X_train_c, y_train_c)\n",
        "        plus_preds[name] = model.predict(X_test_c)"
      ],
      "metadata": {
        "id": "SUkVwj1Mh5OE"
      },
      "execution_count": 10,
      "outputs": []
    },
    {
      "cell_type": "markdown",
      "source": [
        "#A2 - Evaluasi Klasifikasii"
      ],
      "metadata": {
        "id": "s9Aan2G2izbB"
      }
    },
    {
      "cell_type": "code",
      "source": [
        "# Confusion Matrix & Classification Report untuk SVC\n",
        "print(\"=== CONFUSION MATRIX (SVC) ===\")\n",
        "cm = confusion_matrix(y_test_c, y_pred_svc)\n",
        "print(cm)\n",
        "\n",
        "print(\"\\n=== CLASSIFICATION REPORT (SVC) ===\")\n",
        "print(classification_report(y_test_c, y_pred_svc, target_names=le.classes_))\n",
        "\n",
        "# Akurasi model tambahan\n",
        "print(\"\\n=== AKURASI MODEL TAMBAHAN ===\")\n",
        "for name, pred in plus_preds.items():\n",
        "    acc = (pred == y_test_c).mean()\n",
        "    print(f\"{name}: {acc:.4f}\")"
      ],
      "metadata": {
        "colab": {
          "base_uri": "https://localhost:8080/"
        },
        "id": "qfgfFfzri4QJ",
        "outputId": "d90cbf54-2c87-486c-f488-bc0ea18c5cac"
      },
      "execution_count": 11,
      "outputs": [
        {
          "output_type": "stream",
          "name": "stdout",
          "text": [
            "=== CONFUSION MATRIX (SVC) ===\n",
            "[[ 3  0  0  0]\n",
            " [ 0  4  0  1]\n",
            " [ 0  0 10  0]\n",
            " [ 0  2  0  5]]\n",
            "\n",
            "=== CLASSIFICATION REPORT (SVC) ===\n",
            "              precision    recall  f1-score   support\n",
            "\n",
            "       Elite       1.00      1.00      1.00         3\n",
            "        High       0.67      0.80      0.73         5\n",
            "         Low       1.00      1.00      1.00        10\n",
            "         Mid       0.83      0.71      0.77         7\n",
            "\n",
            "    accuracy                           0.88        25\n",
            "   macro avg       0.88      0.88      0.87        25\n",
            "weighted avg       0.89      0.88      0.88        25\n",
            "\n",
            "\n",
            "=== AKURASI MODEL TAMBAHAN ===\n",
            "Random Forest: 0.9200\n",
            "KNN: 0.8800\n",
            "Naive Bayes: 1.0000\n"
          ]
        }
      ]
    },
    {
      "cell_type": "markdown",
      "source": [
        "**Evaluasi Kinerja Model Klasifikasi**\n",
        "\n",
        "1. Confusion Matrix menunjukkan berapa sampel tiap kelas diprediksi benar/salah.\n",
        "\n",
        "2. Classification Report memberi precision, recall, dan F1-Score per kelas.\n",
        "\n",
        "3. kelas elite biasanya paling mudah dipisahkan karena poin jauh lebih tinggi.\n",
        "\n",
        "4. model seperti Random FOrest sering lebih robust terhadap noise dibanding SVM.\n"
      ],
      "metadata": {
        "id": "6-uu6MYDjChk"
      }
    },
    {
      "cell_type": "markdown",
      "source": [
        "#A3 - Plot Klasifikasi"
      ],
      "metadata": {
        "id": "7Hlb-s2-kGlx"
      }
    },
    {
      "cell_type": "code",
      "source": [
        "plt.figure(figsize=(6,5))\n",
        "sns.heatmap(cm, annot=True, fmt='d', cmap='Blues',\n",
        "            xticklabels=le.classes_, yticklabels=le.classes_)\n",
        "plt.xlabel('Predicted Class')\n",
        "plt.ylabel('True Class')\n",
        "plt.title('Confusion Matrix - Support Vector Classifier')\n",
        "plt.show()"
      ],
      "metadata": {
        "colab": {
          "base_uri": "https://localhost:8080/",
          "height": 487
        },
        "id": "Lf6uH_QrkKTV",
        "outputId": "54a72110-7902-4128-f5c7-1b0139032065"
      },
      "execution_count": 12,
      "outputs": [
        {
          "output_type": "display_data",
          "data": {
            "text/plain": [
              "<Figure size 600x500 with 2 Axes>"
            ],
            "image/png": "[encoded data removed]"
          },
          "metadata": {}
        }
      ]
    },
    {
      "cell_type": "markdown",
      "source": [
        "#A1 - Regresi (Label Numerik)"
      ],
      "metadata": {
        "id": "WAwJdBsnksVR"
      }
    },
    {
      "cell_type": "code",
      "source": [
        "X_reg = df[['Tournaments', 'Rank']]\n",
        "y_reg = df['Points']\n",
        "\n",
        "# Split\n",
        "X_train_r, X_test_r, y_train_r, y_test_r = train_test_split(\n",
        "    X_reg, y_reg, test_size=0.25, random_state=42\n",
        ")\n",
        "\n",
        "# Scaling untuk SVR\n",
        "scaler_r = StandardScaler()\n",
        "X_train_r_scaled = scaler_r.fit_transform(X_train_r)\n",
        "X_test_r_scaled = scaler_r.transform(X_test_r)"
      ],
      "metadata": {
        "id": "YLuqrzl4kxYb"
      },
      "execution_count": 13,
      "outputs": []
    },
    {
      "cell_type": "markdown",
      "source": [
        "**Latih Model Regresi**"
      ],
      "metadata": {
        "id": "FMLl1tH5kzve"
      }
    },
    {
      "cell_type": "code",
      "source": [
        "\n",
        "lr = LinearRegression()\n",
        "lr.fit(X_train_r, y_train_r)\n",
        "y_pred_lr = lr.predict(X_test_r)\n",
        "\n",
        "svr = SVR(C=100, gamma=0.1)\n",
        "svr.fit(X_train_r_scaled, y_train_r)\n",
        "y_pred_svr = svr.predict(X_test_r_scaled)\n",
        "\n",
        "rfr = RandomForestRegressor(n_estimators=100, random_state=42)\n",
        "rfr.fit(X_train_r, y_train_r)\n",
        "y_pred_rfr = rfr.predict(X_test_r)"
      ],
      "metadata": {
        "id": "xk14Jwiwk4Mq"
      },
      "execution_count": 15,
      "outputs": []
    },
    {
      "cell_type": "markdown",
      "source": [
        "#A2 - Evaluasi Regresi"
      ],
      "metadata": {
        "id": "nmaP39rplAYE"
      }
    },
    {
      "cell_type": "code",
      "source": [
        "import numpy as np\n",
        "from sklearn.metrics import (\n",
        "    mean_absolute_error, mean_squared_error, r2_score\n",
        ")\n",
        "\n",
        "def eval_reg(y_true, y_pred, name):\n",
        "    mae = mean_absolute_error(y_true, y_pred)\n",
        "    mse = mean_squared_error(y_true, y_pred)\n",
        "    rmse = np.sqrt(mse)\n",
        "    r2 = r2_score(y_true, y_pred)\n",
        "    print(f\"\\n=== {name} ===\")\n",
        "    print(f\"MAE  : {mae:.2f}\")\n",
        "    print(f\"MSE  : {mse:.2f}\")\n",
        "    print(f\"RMSE : {rmse:.2f}\")\n",
        "    print(f\"R²   : {r2:.4f}\")\n",
        "    return mae, mse, rmse, r2\n",
        "\n",
        "eval_reg(y_test_r, y_pred_lr, \"Linear Regression\")\n",
        "eval_reg(y_test_r, y_pred_svr, \"Support Vector Regressor\")\n",
        "eval_reg(y_test_r, y_pred_rfr, \"Random Forest Regressor\")"
      ],
      "metadata": {
        "colab": {
          "base_uri": "https://localhost:8080/"
        },
        "id": "0g8323W1lDBB",
        "outputId": "2ad24275-dd67-4332-9cd5-75d83290fff7"
      },
      "execution_count": 17,
      "outputs": [
        {
          "output_type": "stream",
          "name": "stdout",
          "text": [
            "\n",
            "=== Linear Regression ===\n",
            "MAE  : 5962.46\n",
            "MSE  : 69049525.95\n",
            "RMSE : 8309.60\n",
            "R²   : 0.8339\n",
            "\n",
            "=== Support Vector Regressor ===\n",
            "MAE  : 14479.36\n",
            "MSE  : 439977284.93\n",
            "RMSE : 20975.64\n",
            "R²   : -0.0581\n",
            "\n",
            "=== Random Forest Regressor ===\n",
            "MAE  : 896.61\n",
            "MSE  : 4533179.92\n",
            "RMSE : 2129.13\n",
            "R²   : 0.9891\n"
          ]
        },
        {
          "output_type": "execute_result",
          "data": {
            "text/plain": [
              "(896.6124000000004,\n",
              " 4533179.919660003,\n",
              " np.float64(2129.1265626213963),\n",
              " 0.9890981805065834)"
            ]
          },
          "metadata": {},
          "execution_count": 17
        }
      ]
    },
    {
      "cell_type": "markdown",
      "source": [
        "**Penjelasan**\n",
        "\n",
        "* MAE : Rata - rata selisih absolut antara prediksi dan nilai sebenarnya (dalam case ini \"Points\")\n",
        "\n",
        "* RMSE:Lebih sensitif terhadap error besar - cocok untuk deteksi outlier.\n",
        "\n",
        "* R2: menunjukkan seberapa baik model menjelaskan variasi data. Nilai ~0.7-0.9 berarti model cukup baik.\n",
        "\n",
        "* Pada data ini, Linear Regression sudah cukup baik karena Rank dan Points memiliki hubungan kuat."
      ],
      "metadata": {
        "id": "tqK3TZXqlSpE"
      }
    },
    {
      "cell_type": "markdown",
      "source": [
        "#As3 - Plot Regresi (Prediksi vs Aktual)"
      ],
      "metadata": {
        "id": "9dHQY1RPmD-l"
      }
    },
    {
      "cell_type": "code",
      "source": [
        "# Plot Linear Regression: Actual vs Predicted\n",
        "plt.figure(figsize=(10, 5))\n",
        "plt.scatter(range(len(y_test_r)), y_test_r, alpha=0.8, label='Actual Points', color='steelblue', s=60)\n",
        "plt.scatter(range(len(y_test_r)), y_pred_lr, alpha=0.8, label='Predicted (Linear Reg.)', color='crimson', marker='x', s=80)\n",
        "plt.title('Actual vs Predicted Points – Linear Regression', fontsize=14)\n",
        "plt.xlabel('Sample Index')\n",
        "plt.ylabel('Points')\n",
        "plt.legend()\n",
        "plt.grid(True, linestyle='--', alpha=0.5)\n",
        "plt.tight_layout()\n",
        "plt.show()"
      ],
      "metadata": {
        "colab": {
          "base_uri": "https://localhost:8080/",
          "height": 421
        },
        "id": "h7h5hbTOmJG3",
        "outputId": "d979aaaf-cae0-4f64-bcca-072f4d73638b"
      },
      "execution_count": 18,
      "outputs": [
        {
          "output_type": "display_data",
          "data": {
            "text/plain": [
              "<Figure size 1000x500 with 1 Axes>"
            ],
            "image/png": "[encoded data removed]"
          },
          "metadata": {}
        }
      ]
    },
    {
      "cell_type": "markdown",
      "source": [
        "**Penjelasan**\n",
        "\n",
        "1. Titik biru = nilai points asli.\n",
        "\n",
        "2. Tanda x merah = prediksi model.\n",
        "\n",
        "3. Jika titik dan x berdekatan maka prediksi akurat.\n",
        "\n",
        "4. Plot ini memvisualisasikan kesalaahan prediksi per sample, sangat informatif untuk diagnosis model."
      ],
      "metadata": {
        "id": "-sr-aM7MmMc1"
      }
    }
  ]
}